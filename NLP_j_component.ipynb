{
  "nbformat": 4,
  "nbformat_minor": 0,
  "metadata": {
    "colab": {
      "name": "NLP_j_component.ipynb",
      "provenance": [],
      "collapsed_sections": [],
      "include_colab_link": true
    },
    "kernelspec": {
      "name": "python3",
      "display_name": "Python 3"
    },
    "language_info": {
      "name": "python"
    },
    "accelerator": "GPU"
  },
  "cells": [
    {
      "cell_type": "markdown",
      "metadata": {
        "id": "view-in-github",
        "colab_type": "text"
      },
      "source": [
        "<a href=\"https://colab.research.google.com/github/nikewinchester/NLPTextSummarization/blob/main/NLP_j_component.ipynb\" target=\"_parent\"><img src=\"https://colab.research.google.com/assets/colab-badge.svg\" alt=\"Open In Colab\"/></a>"
      ]
    },
    {
      "cell_type": "code",
      "metadata": {
        "colab": {
          "base_uri": "https://localhost:8080/"
        },
        "id": "zuE0WwfhxARf",
        "outputId": "0a3f76cc-cead-43b3-cc85-c8bd6aa30953"
      },
      "source": [
        "import pandas as pd\n",
        "import seaborn as sns\n",
        "import re\n",
        "import string\n",
        "from string import punctuation\n",
        "import nltk\n",
        "\n",
        "from nltk.tokenize import sent_tokenize\n",
        "from nltk.corpus import stopwords\n",
        "from gensim.models import Word2Vec\n",
        "nltk.download('punkt')\n",
        "nltk.download(\"stopwords\")\n",
        "import matplotlib.pyplot as plt\n",
        "import numpy as np\n",
        "from sklearn.cluster import KMeans\n",
        "from scipy.spatial import distance\n",
        "from sklearn.model_selection import train_test_split\n",
        "from sklearn.feature_extraction.text import CountVectorizer\n",
        "from sklearn.feature_extraction.text import TfidfTransformer\n",
        "import tensorflow as tf\n",
        "from tensorflow.keras.models import Sequential\n",
        "from tensorflow.keras.layers import Dense, Activation, Dropout\n",
        "from tensorflow.keras.callbacks import EarlyStopping\n",
        "\n",
        "from nltk import tokenize\n",
        "from operator import itemgetter\n",
        "import math\n",
        "from nltk.tokenize import word_tokenize \n",
        "stop_words = set(stopwords.words('english'))"
      ],
      "execution_count": null,
      "outputs": [
        {
          "output_type": "stream",
          "text": [
            "[nltk_data] Downloading package punkt to /root/nltk_data...\n",
            "[nltk_data]   Package punkt is already up-to-date!\n",
            "[nltk_data] Downloading package stopwords to /root/nltk_data...\n",
            "[nltk_data]   Package stopwords is already up-to-date!\n"
          ],
          "name": "stdout"
        }
      ]
    },
    {
      "cell_type": "code",
      "metadata": {
        "id": "epd9BBBK9yju"
      },
      "source": [
        "data=pd.read_csv(\"https://raw.githubusercontent.com/nikewinchester/NLPTextSummarization/main/drugsComTest_raw.csv\")"
      ],
      "execution_count": null,
      "outputs": []
    },
    {
      "cell_type": "code",
      "metadata": {
        "colab": {
          "base_uri": "https://localhost:8080/",
          "height": 402
        },
        "id": "dij_q1mixem7",
        "outputId": "150c26ae-eadf-4a19-b237-7c1b2863dc9b"
      },
      "source": [
        "df=pd.DataFrame(data=(data[\"drugName\"][0:100],data[\"review\"][0:100]))\n",
        "df=df.T\n",
        "for i in df.index:\n",
        "  df['review'][i]=df['review'][i].replace(\"&#039;\",\"'\")\n",
        "  df['review'][i]=df['review'][i].replace(\",\",\"\")\n",
        "  df['review'][i]=df['review'][i].replace(\"\\\\\",\"\")\n",
        "  df['review'][i]=df['review'][i].replace(\"\\\"\",\"\")\n",
        "df"
      ],
      "execution_count": null,
      "outputs": [
        {
          "output_type": "execute_result",
          "data": {
            "text/html": [
              "<div>\n",
              "<style scoped>\n",
              "    .dataframe tbody tr th:only-of-type {\n",
              "        vertical-align: middle;\n",
              "    }\n",
              "\n",
              "    .dataframe tbody tr th {\n",
              "        vertical-align: top;\n",
              "    }\n",
              "\n",
              "    .dataframe thead th {\n",
              "        text-align: right;\n",
              "    }\n",
              "</style>\n",
              "<table border=\"1\" class=\"dataframe\">\n",
              "  <thead>\n",
              "    <tr style=\"text-align: right;\">\n",
              "      <th></th>\n",
              "      <th>drugName</th>\n",
              "      <th>review</th>\n",
              "    </tr>\n",
              "  </thead>\n",
              "  <tbody>\n",
              "    <tr>\n",
              "      <th>0</th>\n",
              "      <td>Mirtazapine</td>\n",
              "      <td>I've tried a few antidepressants over the year...</td>\n",
              "    </tr>\n",
              "    <tr>\n",
              "      <th>1</th>\n",
              "      <td>Mesalamine</td>\n",
              "      <td>My son has Crohn's disease and has done very w...</td>\n",
              "    </tr>\n",
              "    <tr>\n",
              "      <th>2</th>\n",
              "      <td>Bactrim</td>\n",
              "      <td>Quick reduction of symptoms</td>\n",
              "    </tr>\n",
              "    <tr>\n",
              "      <th>3</th>\n",
              "      <td>Contrave</td>\n",
              "      <td>Contrave combines drugs that were used for alc...</td>\n",
              "    </tr>\n",
              "    <tr>\n",
              "      <th>4</th>\n",
              "      <td>Cyclafem 1 / 35</td>\n",
              "      <td>I have been on this birth control for one cycl...</td>\n",
              "    </tr>\n",
              "    <tr>\n",
              "      <th>...</th>\n",
              "      <td>...</td>\n",
              "      <td>...</td>\n",
              "    </tr>\n",
              "    <tr>\n",
              "      <th>95</th>\n",
              "      <td>Humira</td>\n",
              "      <td>I really like this medication! It helps me wit...</td>\n",
              "    </tr>\n",
              "    <tr>\n",
              "      <th>96</th>\n",
              "      <td>Insulin inhalation, rapid acting</td>\n",
              "      <td>Horrible</td>\n",
              "    </tr>\n",
              "    <tr>\n",
              "      <th>97</th>\n",
              "      <td>Acetaminophen / hydrocodone</td>\n",
              "      <td>I have been prescribed Vicodin 5/500s for over...</td>\n",
              "    </tr>\n",
              "    <tr>\n",
              "      <th>98</th>\n",
              "      <td>Phenazopyridine</td>\n",
              "      <td>I use Azo-Standard whenever I have issues with...</td>\n",
              "    </tr>\n",
              "    <tr>\n",
              "      <th>99</th>\n",
              "      <td>Levonorgestrel</td>\n",
              "      <td>I went in to have my Skyla placed yesterday mo...</td>\n",
              "    </tr>\n",
              "  </tbody>\n",
              "</table>\n",
              "<p>100 rows × 2 columns</p>\n",
              "</div>"
            ],
            "text/plain": [
              "                            drugName                                             review\n",
              "0                        Mirtazapine  I've tried a few antidepressants over the year...\n",
              "1                         Mesalamine  My son has Crohn's disease and has done very w...\n",
              "2                            Bactrim                        Quick reduction of symptoms\n",
              "3                           Contrave  Contrave combines drugs that were used for alc...\n",
              "4                    Cyclafem 1 / 35  I have been on this birth control for one cycl...\n",
              "..                               ...                                                ...\n",
              "95                            Humira  I really like this medication! It helps me wit...\n",
              "96  Insulin inhalation, rapid acting                                           Horrible\n",
              "97       Acetaminophen / hydrocodone  I have been prescribed Vicodin 5/500s for over...\n",
              "98                   Phenazopyridine  I use Azo-Standard whenever I have issues with...\n",
              "99                    Levonorgestrel  I went in to have my Skyla placed yesterday mo...\n",
              "\n",
              "[100 rows x 2 columns]"
            ]
          },
          "metadata": {
            "tags": []
          },
          "execution_count": 3
        }
      ]
    },
    {
      "cell_type": "code",
      "metadata": {
        "colab": {
          "base_uri": "https://localhost:8080/",
          "height": 195
        },
        "id": "1sSh4sR4jIDk",
        "outputId": "c73cbb3c-6dbd-47dd-94fd-50735811f274"
      },
      "source": [
        "df2 = df.groupby(\"drugName\")\n",
        "df_new = df2[\"review\"].apply(list)\n",
        "df_new = df_new.reset_index()\n",
        "df_new.head()"
      ],
      "execution_count": null,
      "outputs": [
        {
          "output_type": "execute_result",
          "data": {
            "text/html": [
              "<div>\n",
              "<style scoped>\n",
              "    .dataframe tbody tr th:only-of-type {\n",
              "        vertical-align: middle;\n",
              "    }\n",
              "\n",
              "    .dataframe tbody tr th {\n",
              "        vertical-align: top;\n",
              "    }\n",
              "\n",
              "    .dataframe thead th {\n",
              "        text-align: right;\n",
              "    }\n",
              "</style>\n",
              "<table border=\"1\" class=\"dataframe\">\n",
              "  <thead>\n",
              "    <tr style=\"text-align: right;\">\n",
              "      <th></th>\n",
              "      <th>drugName</th>\n",
              "      <th>review</th>\n",
              "    </tr>\n",
              "  </thead>\n",
              "  <tbody>\n",
              "    <tr>\n",
              "      <th>0</th>\n",
              "      <td>Acetaminophen / hydrocodone</td>\n",
              "      <td>[Was very beneficial when taken with a muscle ...</td>\n",
              "    </tr>\n",
              "    <tr>\n",
              "      <th>1</th>\n",
              "      <td>Actos</td>\n",
              "      <td>[Have been on Actos for almost a year gained 2...</td>\n",
              "    </tr>\n",
              "    <tr>\n",
              "      <th>2</th>\n",
              "      <td>Afrezza</td>\n",
              "      <td>[Since I was on the trials I put 6+ months but...</td>\n",
              "    </tr>\n",
              "    <tr>\n",
              "      <th>3</th>\n",
              "      <td>Aluminum chloride hexahydrate</td>\n",
              "      <td>[So in high school over ten years ago I starte...</td>\n",
              "    </tr>\n",
              "    <tr>\n",
              "      <th>4</th>\n",
              "      <td>Ambien</td>\n",
              "      <td>[Ditto on rebound sleepless when discontinued....</td>\n",
              "    </tr>\n",
              "  </tbody>\n",
              "</table>\n",
              "</div>"
            ],
            "text/plain": [
              "                        drugName                                             review\n",
              "0    Acetaminophen / hydrocodone  [Was very beneficial when taken with a muscle ...\n",
              "1                          Actos  [Have been on Actos for almost a year gained 2...\n",
              "2                        Afrezza  [Since I was on the trials I put 6+ months but...\n",
              "3  Aluminum chloride hexahydrate  [So in high school over ten years ago I starte...\n",
              "4                         Ambien  [Ditto on rebound sleepless when discontinued...."
            ]
          },
          "metadata": {
            "tags": []
          },
          "execution_count": 4
        }
      ]
    },
    {
      "cell_type": "code",
      "metadata": {
        "id": "fEbPn8kpzO5I"
      },
      "source": [
        "def get_text_processing(text):\n",
        "    stpword = stopwords.words('english')\n",
        "    no_punctuation = [char for char in text if char not in string.punctuation]\n",
        "    no_punctuation = ''.join(no_punctuation)\n",
        "    return ' '.join([word for word in no_punctuation.split() if word.lower() not in stpword])"
      ],
      "execution_count": null,
      "outputs": []
    },
    {
      "cell_type": "code",
      "metadata": {
        "id": "_J_5GuG2zXxO",
        "colab": {
          "base_uri": "https://localhost:8080/",
          "height": 195
        },
        "outputId": "cf303e02-1b15-4534-e75f-d0a3d711a68b"
      },
      "source": [
        "df_new['rev'] = df_new['review'].apply(get_text_processing)\n",
        "df_new.head()"
      ],
      "execution_count": null,
      "outputs": [
        {
          "output_type": "execute_result",
          "data": {
            "text/html": [
              "<div>\n",
              "<style scoped>\n",
              "    .dataframe tbody tr th:only-of-type {\n",
              "        vertical-align: middle;\n",
              "    }\n",
              "\n",
              "    .dataframe tbody tr th {\n",
              "        vertical-align: top;\n",
              "    }\n",
              "\n",
              "    .dataframe thead th {\n",
              "        text-align: right;\n",
              "    }\n",
              "</style>\n",
              "<table border=\"1\" class=\"dataframe\">\n",
              "  <thead>\n",
              "    <tr style=\"text-align: right;\">\n",
              "      <th></th>\n",
              "      <th>drugName</th>\n",
              "      <th>review</th>\n",
              "      <th>rev</th>\n",
              "    </tr>\n",
              "  </thead>\n",
              "  <tbody>\n",
              "    <tr>\n",
              "      <th>0</th>\n",
              "      <td>Acetaminophen / hydrocodone</td>\n",
              "      <td>[Was very beneficial when taken with a muscle ...</td>\n",
              "      <td>beneficial taken muscle relaxer extreme pain n...</td>\n",
              "    </tr>\n",
              "    <tr>\n",
              "      <th>1</th>\n",
              "      <td>Actos</td>\n",
              "      <td>[Have been on Actos for almost a year gained 2...</td>\n",
              "      <td>Actos almost year gained 24 pounds swelling ha...</td>\n",
              "    </tr>\n",
              "    <tr>\n",
              "      <th>2</th>\n",
              "      <td>Afrezza</td>\n",
              "      <td>[Since I was on the trials I put 6+ months but...</td>\n",
              "      <td>Since trials put 6+ months back Afrezza 2 week...</td>\n",
              "    </tr>\n",
              "    <tr>\n",
              "      <th>3</th>\n",
              "      <td>Aluminum chloride hexahydrate</td>\n",
              "      <td>[So in high school over ten years ago I starte...</td>\n",
              "      <td>high school ten years ago started sweat really...</td>\n",
              "    </tr>\n",
              "    <tr>\n",
              "      <th>4</th>\n",
              "      <td>Ambien</td>\n",
              "      <td>[Ditto on rebound sleepless when discontinued....</td>\n",
              "      <td>Ditto rebound sleepless discontinued. done str...</td>\n",
              "    </tr>\n",
              "  </tbody>\n",
              "</table>\n",
              "</div>"
            ],
            "text/plain": [
              "                        drugName  ...                                                rev\n",
              "0    Acetaminophen / hydrocodone  ...  beneficial taken muscle relaxer extreme pain n...\n",
              "1                          Actos  ...  Actos almost year gained 24 pounds swelling ha...\n",
              "2                        Afrezza  ...  Since trials put 6+ months back Afrezza 2 week...\n",
              "3  Aluminum chloride hexahydrate  ...  high school ten years ago started sweat really...\n",
              "4                         Ambien  ...  Ditto rebound sleepless discontinued. done str...\n",
              "\n",
              "[5 rows x 3 columns]"
            ]
          },
          "metadata": {
            "tags": []
          },
          "execution_count": 6
        }
      ]
    },
    {
      "cell_type": "code",
      "metadata": {
        "id": "At1XDGvpuuT-"
      },
      "source": [
        "def Summarizer(test):\n",
        "  df_new[\"review\"][test]\n",
        "  sentence = sent_tokenize(str(df_new[\"review\"][test]))\n",
        "  temp=df_new[\"rev\"][test].split(\".\")\n",
        "  all_words = [i for i in temp]\n",
        "  model = Word2Vec([all_words], min_count=1,size= 300)\n",
        "  sent_vector=[]\n",
        "  temp=df_new[\"rev\"][test].split(\".\")\n",
        "  for i in temp:\n",
        "      plus=0\n",
        "      for j in i.split(\".\"):\n",
        "          plus+= model.wv[j]\n",
        "      plus = plus/len(i.split(\".\"))\n",
        "      sent_vector.append(plus)\n",
        "  n_clusters = 1\n",
        "  kmeans = KMeans(n_clusters, init = 'k-means++', random_state = 42)\n",
        "  y_kmeans = kmeans.fit_predict(sent_vector)\n",
        "  my_list=[]\n",
        "  for i in range(n_clusters):\n",
        "      my_dict={}\n",
        "    \n",
        "      for j in range(len(y_kmeans)):\n",
        "        \n",
        "          if y_kmeans[j]==i:\n",
        "              my_dict[j] =  distance.euclidean(kmeans.cluster_centers_[i],sent_vector[j])\n",
        "      min_distance = min(my_dict.values())\n",
        "      my_list.append(min(my_dict, key=my_dict.get))\n",
        " \n",
        "  print(my_list)                          \n",
        "  for i in sorted(my_list):\n",
        "      print(sentence[i])"
      ],
      "execution_count": null,
      "outputs": []
    },
    {
      "cell_type": "code",
      "metadata": {
        "colab": {
          "base_uri": "https://localhost:8080/"
        },
        "id": "07VsQS8OtoFo",
        "outputId": "a4b1a9f5-7ca8-4ba3-e1c2-ee6ab007df70"
      },
      "source": [
        "test=13\n",
        "df_new[\"review\"][test]\n",
        "Summarizer(5)"
      ],
      "execution_count": null,
      "outputs": [
        {
          "output_type": "stream",
          "text": [
            "[0]\n",
            "[\"This has been great for me.\n"
          ],
          "name": "stdout"
        }
      ]
    },
    {
      "cell_type": "code",
      "metadata": {
        "id": "ZabaqobfV_ij"
      },
      "source": [
        "def check_sent(word, sentences): \n",
        "    final = [all([w in x for w in word]) for x in sentences] \n",
        "    sent_len = [sentences[i] for i in range(0, len(final)) if final[i]]\n",
        "    return int(len(sent_len))\n",
        "\n",
        "def get_top_n(dict_elem, n):\n",
        "    result = dict(sorted(dict_elem.items(), key = itemgetter(1), reverse = True)[:n]) \n",
        "    return result.keys()"
      ],
      "execution_count": null,
      "outputs": []
    },
    {
      "cell_type": "code",
      "metadata": {
        "id": "YFESn0h4WBfm"
      },
      "source": [
        "def caltfidf(test):\n",
        "  total_words = df_new[\"rev\"][test].split()\n",
        "  total_word_length = len(total_words)\n",
        "  total_sentences = tokenize.sent_tokenize(df_new[\"rev\"][test])\n",
        "  total_sent_len = len(total_sentences)\n",
        "\n",
        "  tf_score = {}\n",
        "  for each_word in total_words:\n",
        "      each_word = each_word.replace('.','')\n",
        "      if each_word not in stop_words:\n",
        "          if each_word in tf_score:\n",
        "              tf_score[each_word] += 1\n",
        "          else:\n",
        "              tf_score[each_word] = 1\n",
        "\n",
        "  # Dividing by total_word_length for each dictionary element\n",
        "  tf_score.update((x, y/int(total_word_length)) for x, y in tf_score.items())\n",
        "\n",
        "  idf_score = {}\n",
        "  for each_word in total_words:\n",
        "      each_word = each_word.replace('.','')\n",
        "      if each_word not in stop_words:\n",
        "          if each_word in idf_score:\n",
        "              idf_score[each_word] = check_sent(each_word, total_sentences)\n",
        "          else:\n",
        "              idf_score[each_word] = 1\n",
        "\n",
        "  # Performing a log and divide\n",
        "  idf_score.update((x, math.log(int(total_sent_len)/y)) for x, y in idf_score.items())\n",
        "\n",
        "\n",
        "  tf_idf_score = {key: tf_score[key] * idf_score.get(key, 0) for key in tf_score.keys()}\n",
        "\n",
        "  tfidfw=list(get_top_n(tf_idf_score, 10))\n",
        "  return tfidfw"
      ],
      "execution_count": null,
      "outputs": []
    },
    {
      "cell_type": "code",
      "metadata": {
        "id": "0J-4CfI1WWaY",
        "colab": {
          "base_uri": "https://localhost:8080/"
        },
        "outputId": "5de2f642-7855-462c-d916-2199e138a159"
      },
      "source": [
        "print(df_new['review'][test])"
      ],
      "execution_count": null,
      "outputs": [
        {
          "output_type": "stream",
          "text": [
            "[\"I absolutely love this product and recommend to everyone. I know everyone's body is different so it is not for everyone but it is not the medicines fault. I have NO negative symptoms since I started this. I used to have heavy periods terrible cramps and headaches and my periods were super long. I now have super consistent 3-4 LIGHT periods no cramps or headaches. I have been on this pill for over a year now and have no desire to switch.\"]\n"
          ],
          "name": "stdout"
        }
      ]
    },
    {
      "cell_type": "code",
      "metadata": {
        "id": "A14aej-0WITB",
        "colab": {
          "base_uri": "https://localhost:8080/"
        },
        "outputId": "b45cf8dc-39b1-4598-e7bb-e8172b6badc9"
      },
      "source": [
        "tfidfw=caltfidf(test)\n",
        "print(tfidfw)"
      ],
      "execution_count": null,
      "outputs": [
        {
          "output_type": "stream",
          "text": [
            "['periods', 'absolutely', 'love', 'product', 'recommend', 'know', \"everyone's\", 'body', 'different', 'medicines']\n"
          ],
          "name": "stdout"
        }
      ]
    }
  ]
}