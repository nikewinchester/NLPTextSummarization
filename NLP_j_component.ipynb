{
  "nbformat": 4,
  "nbformat_minor": 0,
  "metadata": {
    "colab": {
      "name": "NLP_j_component.ipynb",
      "provenance": [],
      "collapsed_sections": []
    },
    "kernelspec": {
      "name": "python3",
      "display_name": "Python 3"
    },
    "language_info": {
      "name": "python"
    },
    "accelerator": "GPU"
  },
  "cells": [
    {
      "cell_type": "code",
      "metadata": {
        "colab": {
          "base_uri": "https://localhost:8080/"
        },
        "id": "zuE0WwfhxARf",
        "outputId": "482d6f75-9453-41c4-d353-056fdc89e20c"
      },
      "source": [
        "import pandas as pd\n",
        "import seaborn as sns\n",
        "import re\n",
        "import string\n",
        "from string import punctuation\n",
        "import nltk\n",
        "\n",
        "from nltk.tokenize import sent_tokenize\n",
        "from nltk.corpus import stopwords\n",
        "from gensim.models import Word2Vec\n",
        "nltk.download('punkt')\n",
        "nltk.download(\"stopwords\")\n",
        "import matplotlib.pyplot as plt\n",
        "import numpy as np\n",
        "from sklearn.cluster import KMeans\n",
        "from scipy.spatial import distance\n",
        "from sklearn.model_selection import train_test_split\n",
        "from sklearn.feature_extraction.text import CountVectorizer\n",
        "from sklearn.feature_extraction.text import TfidfTransformer\n",
        "import tensorflow as tf\n",
        "from tensorflow.keras.models import Sequential\n",
        "from tensorflow.keras.layers import Dense, Activation, Dropout\n",
        "from tensorflow.keras.callbacks import EarlyStopping"
      ],
      "execution_count": null,
      "outputs": [
        {
          "output_type": "stream",
          "text": [
            "[nltk_data] Downloading package stopwords to /root/nltk_data...\n",
            "[nltk_data]   Package stopwords is already up-to-date!\n"
          ],
          "name": "stdout"
        }
      ]
    },
    {
      "cell_type": "code",
      "metadata": {
        "colab": {
          "base_uri": "https://localhost:8080/"
        },
        "id": "I0srBV1NWteQ",
        "outputId": "2cfa2c52-d229-4b27-97b4-f1105fac57af"
      },
      "source": [
        "from google.colab import drive\n",
        "drive.mount('/content/drive')"
      ],
      "execution_count": null,
      "outputs": [
        {
          "output_type": "stream",
          "text": [
            "Drive already mounted at /content/drive; to attempt to forcibly remount, call drive.mount(\"/content/drive\", force_remount=True).\n"
          ],
          "name": "stdout"
        }
      ]
    },
    {
      "cell_type": "code",
      "metadata": {
        "id": "zFANOC0iuArV"
      },
      "source": [
        "data=pd.read_csv(\"/content/drive/MyDrive/drugsComTest_raw.csv\")"
      ],
      "execution_count": null,
      "outputs": []
    },
    {
      "cell_type": "code",
      "metadata": {
        "colab": {
          "base_uri": "https://localhost:8080/",
          "height": 402
        },
        "id": "dij_q1mixem7",
        "outputId": "37f3d95b-aea1-4c12-8dfc-d74210a3eac8"
      },
      "source": [
        "df=pd.DataFrame(data=(data[\"drugName\"][0:100],data[\"review\"][0:100]))\n",
        "df=df.T\n",
        "for i in df.index:\n",
        "  df['review'][i]=df['review'][i].replace(\"&#039;\",\"'\")\n",
        "  df['review'][i]=df['review'][i].replace(\",\",\"\")\n",
        "  df['review'][i]=df['review'][i].replace(\"\\\\\",\"\")\n",
        "  df['review'][i]=df['review'][i].replace(\"\\\"\",\"\")\n",
        "df"
      ],
      "execution_count": null,
      "outputs": [
        {
          "output_type": "execute_result",
          "data": {
            "text/html": [
              "<div>\n",
              "<style scoped>\n",
              "    .dataframe tbody tr th:only-of-type {\n",
              "        vertical-align: middle;\n",
              "    }\n",
              "\n",
              "    .dataframe tbody tr th {\n",
              "        vertical-align: top;\n",
              "    }\n",
              "\n",
              "    .dataframe thead th {\n",
              "        text-align: right;\n",
              "    }\n",
              "</style>\n",
              "<table border=\"1\" class=\"dataframe\">\n",
              "  <thead>\n",
              "    <tr style=\"text-align: right;\">\n",
              "      <th></th>\n",
              "      <th>drugName</th>\n",
              "      <th>review</th>\n",
              "    </tr>\n",
              "  </thead>\n",
              "  <tbody>\n",
              "    <tr>\n",
              "      <th>0</th>\n",
              "      <td>Mirtazapine</td>\n",
              "      <td>I've tried a few antidepressants over the year...</td>\n",
              "    </tr>\n",
              "    <tr>\n",
              "      <th>1</th>\n",
              "      <td>Mesalamine</td>\n",
              "      <td>My son has Crohn's disease and has done very w...</td>\n",
              "    </tr>\n",
              "    <tr>\n",
              "      <th>2</th>\n",
              "      <td>Bactrim</td>\n",
              "      <td>Quick reduction of symptoms</td>\n",
              "    </tr>\n",
              "    <tr>\n",
              "      <th>3</th>\n",
              "      <td>Contrave</td>\n",
              "      <td>Contrave combines drugs that were used for alc...</td>\n",
              "    </tr>\n",
              "    <tr>\n",
              "      <th>4</th>\n",
              "      <td>Cyclafem 1 / 35</td>\n",
              "      <td>I have been on this birth control for one cycl...</td>\n",
              "    </tr>\n",
              "    <tr>\n",
              "      <th>...</th>\n",
              "      <td>...</td>\n",
              "      <td>...</td>\n",
              "    </tr>\n",
              "    <tr>\n",
              "      <th>95</th>\n",
              "      <td>Humira</td>\n",
              "      <td>I really like this medication! It helps me wit...</td>\n",
              "    </tr>\n",
              "    <tr>\n",
              "      <th>96</th>\n",
              "      <td>Insulin inhalation, rapid acting</td>\n",
              "      <td>Horrible</td>\n",
              "    </tr>\n",
              "    <tr>\n",
              "      <th>97</th>\n",
              "      <td>Acetaminophen / hydrocodone</td>\n",
              "      <td>I have been prescribed Vicodin 5/500s for over...</td>\n",
              "    </tr>\n",
              "    <tr>\n",
              "      <th>98</th>\n",
              "      <td>Phenazopyridine</td>\n",
              "      <td>I use Azo-Standard whenever I have issues with...</td>\n",
              "    </tr>\n",
              "    <tr>\n",
              "      <th>99</th>\n",
              "      <td>Levonorgestrel</td>\n",
              "      <td>I went in to have my Skyla placed yesterday mo...</td>\n",
              "    </tr>\n",
              "  </tbody>\n",
              "</table>\n",
              "<p>100 rows × 2 columns</p>\n",
              "</div>"
            ],
            "text/plain": [
              "                            drugName                                             review\n",
              "0                        Mirtazapine  I've tried a few antidepressants over the year...\n",
              "1                         Mesalamine  My son has Crohn's disease and has done very w...\n",
              "2                            Bactrim                        Quick reduction of symptoms\n",
              "3                           Contrave  Contrave combines drugs that were used for alc...\n",
              "4                    Cyclafem 1 / 35  I have been on this birth control for one cycl...\n",
              "..                               ...                                                ...\n",
              "95                            Humira  I really like this medication! It helps me wit...\n",
              "96  Insulin inhalation, rapid acting                                           Horrible\n",
              "97       Acetaminophen / hydrocodone  I have been prescribed Vicodin 5/500s for over...\n",
              "98                   Phenazopyridine  I use Azo-Standard whenever I have issues with...\n",
              "99                    Levonorgestrel  I went in to have my Skyla placed yesterday mo...\n",
              "\n",
              "[100 rows x 2 columns]"
            ]
          },
          "metadata": {
            "tags": []
          },
          "execution_count": 49
        }
      ]
    },
    {
      "cell_type": "code",
      "metadata": {
        "colab": {
          "base_uri": "https://localhost:8080/",
          "height": 195
        },
        "id": "1sSh4sR4jIDk",
        "outputId": "c6c91158-9894-409c-df5e-1f9aa19540bd"
      },
      "source": [
        "df2 = df.groupby(\"drugName\")\n",
        "df_new = df2[\"review\"].apply(list)\n",
        "df_new = df_new.reset_index()\n",
        "df_new.head()"
      ],
      "execution_count": null,
      "outputs": [
        {
          "output_type": "execute_result",
          "data": {
            "text/html": [
              "<div>\n",
              "<style scoped>\n",
              "    .dataframe tbody tr th:only-of-type {\n",
              "        vertical-align: middle;\n",
              "    }\n",
              "\n",
              "    .dataframe tbody tr th {\n",
              "        vertical-align: top;\n",
              "    }\n",
              "\n",
              "    .dataframe thead th {\n",
              "        text-align: right;\n",
              "    }\n",
              "</style>\n",
              "<table border=\"1\" class=\"dataframe\">\n",
              "  <thead>\n",
              "    <tr style=\"text-align: right;\">\n",
              "      <th></th>\n",
              "      <th>drugName</th>\n",
              "      <th>review</th>\n",
              "    </tr>\n",
              "  </thead>\n",
              "  <tbody>\n",
              "    <tr>\n",
              "      <th>0</th>\n",
              "      <td>Acetaminophen / hydrocodone</td>\n",
              "      <td>[Was very beneficial when taken with a muscle ...</td>\n",
              "    </tr>\n",
              "    <tr>\n",
              "      <th>1</th>\n",
              "      <td>Actos</td>\n",
              "      <td>[Have been on Actos for almost a year gained 2...</td>\n",
              "    </tr>\n",
              "    <tr>\n",
              "      <th>2</th>\n",
              "      <td>Afrezza</td>\n",
              "      <td>[Since I was on the trials I put 6+ months but...</td>\n",
              "    </tr>\n",
              "    <tr>\n",
              "      <th>3</th>\n",
              "      <td>Aluminum chloride hexahydrate</td>\n",
              "      <td>[So in high school over ten years ago I starte...</td>\n",
              "    </tr>\n",
              "    <tr>\n",
              "      <th>4</th>\n",
              "      <td>Ambien</td>\n",
              "      <td>[Ditto on rebound sleepless when discontinued....</td>\n",
              "    </tr>\n",
              "  </tbody>\n",
              "</table>\n",
              "</div>"
            ],
            "text/plain": [
              "                        drugName                                             review\n",
              "0    Acetaminophen / hydrocodone  [Was very beneficial when taken with a muscle ...\n",
              "1                          Actos  [Have been on Actos for almost a year gained 2...\n",
              "2                        Afrezza  [Since I was on the trials I put 6+ months but...\n",
              "3  Aluminum chloride hexahydrate  [So in high school over ten years ago I starte...\n",
              "4                         Ambien  [Ditto on rebound sleepless when discontinued...."
            ]
          },
          "metadata": {
            "tags": []
          },
          "execution_count": 50
        }
      ]
    },
    {
      "cell_type": "code",
      "metadata": {
        "id": "fEbPn8kpzO5I"
      },
      "source": [
        "def get_text_processing(text):\n",
        "    stpword = stopwords.words('english')\n",
        "    no_punctuation = [char for char in text if char not in string.punctuation]\n",
        "    no_punctuation = ''.join(no_punctuation)\n",
        "    return ' '.join([word for word in no_punctuation.split() if word.lower() not in stpword])"
      ],
      "execution_count": null,
      "outputs": []
    },
    {
      "cell_type": "code",
      "metadata": {
        "id": "_J_5GuG2zXxO",
        "colab": {
          "base_uri": "https://localhost:8080/",
          "height": 195
        },
        "outputId": "828c6589-0193-4d06-f3e9-e22dcfdfff2b"
      },
      "source": [
        "df_new['rev'] = df_new['review'].apply(get_text_processing)\n",
        "df_new.head()"
      ],
      "execution_count": null,
      "outputs": [
        {
          "output_type": "execute_result",
          "data": {
            "text/html": [
              "<div>\n",
              "<style scoped>\n",
              "    .dataframe tbody tr th:only-of-type {\n",
              "        vertical-align: middle;\n",
              "    }\n",
              "\n",
              "    .dataframe tbody tr th {\n",
              "        vertical-align: top;\n",
              "    }\n",
              "\n",
              "    .dataframe thead th {\n",
              "        text-align: right;\n",
              "    }\n",
              "</style>\n",
              "<table border=\"1\" class=\"dataframe\">\n",
              "  <thead>\n",
              "    <tr style=\"text-align: right;\">\n",
              "      <th></th>\n",
              "      <th>drugName</th>\n",
              "      <th>review</th>\n",
              "      <th>rev</th>\n",
              "    </tr>\n",
              "  </thead>\n",
              "  <tbody>\n",
              "    <tr>\n",
              "      <th>0</th>\n",
              "      <td>Acetaminophen / hydrocodone</td>\n",
              "      <td>[Was very beneficial when taken with a muscle ...</td>\n",
              "      <td>beneficial taken muscle relaxer extreme pain n...</td>\n",
              "    </tr>\n",
              "    <tr>\n",
              "      <th>1</th>\n",
              "      <td>Actos</td>\n",
              "      <td>[Have been on Actos for almost a year gained 2...</td>\n",
              "      <td>Actos almost year gained 24 pounds swelling ha...</td>\n",
              "    </tr>\n",
              "    <tr>\n",
              "      <th>2</th>\n",
              "      <td>Afrezza</td>\n",
              "      <td>[Since I was on the trials I put 6+ months but...</td>\n",
              "      <td>Since trials put 6+ months back Afrezza 2 week...</td>\n",
              "    </tr>\n",
              "    <tr>\n",
              "      <th>3</th>\n",
              "      <td>Aluminum chloride hexahydrate</td>\n",
              "      <td>[So in high school over ten years ago I starte...</td>\n",
              "      <td>high school ten years ago started sweat really...</td>\n",
              "    </tr>\n",
              "    <tr>\n",
              "      <th>4</th>\n",
              "      <td>Ambien</td>\n",
              "      <td>[Ditto on rebound sleepless when discontinued....</td>\n",
              "      <td>Ditto rebound sleepless discontinued. done str...</td>\n",
              "    </tr>\n",
              "  </tbody>\n",
              "</table>\n",
              "</div>"
            ],
            "text/plain": [
              "                        drugName  ...                                                rev\n",
              "0    Acetaminophen / hydrocodone  ...  beneficial taken muscle relaxer extreme pain n...\n",
              "1                          Actos  ...  Actos almost year gained 24 pounds swelling ha...\n",
              "2                        Afrezza  ...  Since trials put 6+ months back Afrezza 2 week...\n",
              "3  Aluminum chloride hexahydrate  ...  high school ten years ago started sweat really...\n",
              "4                         Ambien  ...  Ditto rebound sleepless discontinued. done str...\n",
              "\n",
              "[5 rows x 3 columns]"
            ]
          },
          "metadata": {
            "tags": []
          },
          "execution_count": 63
        }
      ]
    },
    {
      "cell_type": "code",
      "metadata": {
        "id": "At1XDGvpuuT-"
      },
      "source": [
        "def Summarizer(test):\n",
        "  df_new[\"review\"][test]\n",
        "  sentence = sent_tokenize(str(df_new[\"review\"][test]))\n",
        "  temp=df_new[\"rev\"][test].split(\".\")\n",
        "  all_words = [i for i in temp]\n",
        "  model = Word2Vec([all_words], min_count=1,size= 300)\n",
        "  sent_vector=[]\n",
        "  temp=df_new[\"rev\"][test].split(\".\")\n",
        "  for i in temp:\n",
        "      plus=0\n",
        "      for j in i.split(\".\"):\n",
        "          plus+= model.wv[j]\n",
        "      plus = plus/len(i.split(\".\"))\n",
        "      sent_vector.append(plus)\n",
        "  n_clusters = 1\n",
        "  kmeans = KMeans(n_clusters, init = 'k-means++', random_state = 42)\n",
        "  y_kmeans = kmeans.fit_predict(sent_vector)\n",
        "  my_list=[]\n",
        "  for i in range(n_clusters):\n",
        "      my_dict={}\n",
        "    \n",
        "      for j in range(len(y_kmeans)):\n",
        "        \n",
        "          if y_kmeans[j]==i:\n",
        "              my_dict[j] =  distance.euclidean(kmeans.cluster_centers_[i],sent_vector[j])\n",
        "      min_distance = min(my_dict.values())\n",
        "      my_list.append(min(my_dict, key=my_dict.get))\n",
        " \n",
        "  print(my_list)                          \n",
        "  for i in sorted(my_list):\n",
        "      print(sentence[i])"
      ],
      "execution_count": null,
      "outputs": []
    },
    {
      "cell_type": "code",
      "metadata": {
        "colab": {
          "base_uri": "https://localhost:8080/"
        },
        "id": "07VsQS8OtoFo",
        "outputId": "1b9fed44-fc27-4c3b-c977-ae67c1db19d5"
      },
      "source": [
        "test=5\n",
        "df_new[\"review\"][test]\n",
        "Summarizer(5)"
      ],
      "execution_count": null,
      "outputs": [
        {
          "output_type": "stream",
          "text": [
            "[3]\n",
            "I'm still a little sleepy during the day but I know that will get better.\n"
          ],
          "name": "stdout"
        }
      ]
    }
  ]
}